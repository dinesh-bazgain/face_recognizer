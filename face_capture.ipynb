{
 "cells": [
  {
   "cell_type": "markdown",
   "id": "8b9f3a68-ec95-4104-b5ec-0786142daa4e",
   "metadata": {},
   "source": [
    "# Generating Datasets"
   ]
  },
  {
   "cell_type": "code",
   "execution_count": 1,
   "id": "a95e9355-a8d7-429a-8053-b5917df3dcef",
   "metadata": {},
   "outputs": [],
   "source": [
    "import cv2 as cv\n",
    "import os\n",
    "import numpy as np\n",
    "from PIL import Image"
   ]
  },
  {
   "cell_type": "code",
   "execution_count": 2,
   "id": "24e9094b-d411-49b9-9205-e829882c204b",
   "metadata": {},
   "outputs": [
    {
     "name": "stdout",
     "output_type": "stream",
     "text": [
      "Enter your Id:  4\n"
     ]
    },
    {
     "name": "stderr",
     "output_type": "stream",
     "text": [
      "2025-02-19 15:26:24.279 Python[6282:313030] +[IMKClient subclass]: chose IMKClient_Modern\n",
      "2025-02-19 15:26:24.279 Python[6282:313030] +[IMKInputSession subclass]: chose IMKInputSession_Modern\n"
     ]
    },
    {
     "data": {
      "text/plain": [
       "-1"
      ]
     },
     "execution_count": 2,
     "metadata": {},
     "output_type": "execute_result"
    }
   ],
   "source": [
    "if not os.path.exists(\"faces\"):\n",
    "    os.mkdir(\"faces\")\n",
    "cap = cv.VideoCapture(0)\n",
    "\n",
    "face_cascade = cv.CascadeClassifier(cv.data.haarcascades + 'haarcascade_frontalface_default.xml')\n",
    "face_id = input('Enter your Id: ')\n",
    "\n",
    "count = 0\n",
    "\n",
    "while True:\n",
    "    ret, frame = cap.read()\n",
    "    gray = cv.cvtColor(frame, cv.COLOR_BGR2GRAY)\n",
    "\n",
    "    faces = face_cascade.detectMultiScale(gray, 1.5, 5)\n",
    "\n",
    "    for (x,y,w,h) in faces:\n",
    "        cv.rectangle(frame, (x,y), (x+w,y+h), (0,255,0), 2)\n",
    "\n",
    "        count += 1\n",
    "        face_image = gray[y:y+h, x:x+w]\n",
    "        cv.imwrite(f'faces/{face_id}_{count}.jpg', face_image)\n",
    "\n",
    "    \n",
    "    cv.putText(frame, str(count), (frame.shape[1] // 2, frame.shape[0] - 50), cv.FONT_HERSHEY_SIMPLEX, 1.5, (0,255,0), 2)\n",
    "    cv.imshow('Captured Image', frame)\n",
    "        \n",
    "    if count >= 400:\n",
    "        break\n",
    "\n",
    "    if cv.waitKey(1) &0xFF == ord('q'):\n",
    "        break\n",
    "\n",
    "cap.release()\n",
    "cv.destroyAllWindows()\n",
    "cv.waitKey(1)"
   ]
  },
  {
   "cell_type": "markdown",
   "id": "4183b1ef-0294-4033-916f-51d1a2fd074b",
   "metadata": {},
   "source": [
    "# Training Datasets"
   ]
  },
  {
   "cell_type": "code",
   "execution_count": 7,
   "id": "ffa95fff-f6ca-43b2-83bc-d6335f8506e4",
   "metadata": {},
   "outputs": [
    {
     "name": "stdout",
     "output_type": "stream",
     "text": [
      "Training complete. Classifier saved as 'trained_classifier.xml'.\n"
     ]
    }
   ],
   "source": [
    "def data_classifier(faces_dir):\n",
    "    # Get all image paths from the faces_dir\n",
    "    path = [os.path.join(faces_dir, f) for f in os.listdir(faces_dir) if f.endswith(('.jpg', '.png', '.jpeg'))]\n",
    "\n",
    "    face = []\n",
    "    ids = []\n",
    "\n",
    "    for image in path:\n",
    "        img = cv.imread(image, cv.IMREAD_GRAYSCALE)\n",
    "        if img is None:\n",
    "            print(f\"Failed to load image: {image}\")\n",
    "            continue\n",
    "        \n",
    "        imageNp = np.array(img, 'uint8')\n",
    "        id = int(os.path.split(image)[-1].split('_')[0])\n",
    "\n",
    "        face.append(imageNp)\n",
    "        ids.append(id)\n",
    "\n",
    "    ids = np.array(ids)\n",
    "\n",
    "    # Training classifier\n",
    "    clf = cv.face.LBPHFaceRecognizer_create()\n",
    "    clf.train(face, ids)\n",
    "    clf.write(\"trained_classifier.xml\")\n",
    "\n",
    "    print(\"Training complete. Classifier saved as 'trained_classifier.xml'.\")\n",
    "\n",
    "# Call the function\n",
    "data_classifier(\"faces\")\n"
   ]
  },
  {
   "cell_type": "markdown",
   "id": "514a553f-3ee7-449d-88fd-4c821f34ad7d",
   "metadata": {},
   "source": [
    "# Face Recognizer\n"
   ]
  },
  {
   "cell_type": "code",
   "execution_count": null,
   "id": "cda7cb56-defe-4714-8ea9-a059afc28df9",
   "metadata": {},
   "outputs": [],
   "source": []
  }
 ],
 "metadata": {
  "kernelspec": {
   "display_name": "Python 3 (ipykernel)",
   "language": "python",
   "name": "python3"
  },
  "language_info": {
   "codemirror_mode": {
    "name": "ipython",
    "version": 3
   },
   "file_extension": ".py",
   "mimetype": "text/x-python",
   "name": "python",
   "nbconvert_exporter": "python",
   "pygments_lexer": "ipython3",
   "version": "3.13.1"
  }
 },
 "nbformat": 4,
 "nbformat_minor": 5
}
